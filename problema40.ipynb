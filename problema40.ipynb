{
 "cells": [
  {
   "attachments": {},
   "cell_type": "markdown",
   "metadata": {},
   "source": [
    "### Champernowne's constant\n",
    "#### Problema 40\n",
    "\n",
    "An irrational decimal fraction is created by concatenating the positive integers:\n",
    "\n",
    "0.123456789101112131415161718192021...\n",
    "\n",
    "It can be seen that the 12th digit of the fractional part is 1.\n",
    "\n",
    "If dn represents the nth digit of the fractional part, find the value of the following expression.\n",
    "\n",
    "d1 × d10 × d100 × d1000 × d10000 × d100000 × d1000000"
   ]
  },
  {
   "cell_type": "code",
   "execution_count": 26,
   "metadata": {},
   "outputs": [
    {
     "name": "stdout",
     "output_type": "stream",
     "text": [
      "210\n"
     ]
    }
   ],
   "source": [
    "import math\n",
    "\n",
    "vec = []\n",
    "for i in range(1,1000000):\n",
    "    vec.append(str(i))\n",
    "stringona = \"\".join(vec)\n",
    "produtorio = 1\n",
    "for d in [1,10,100,1000,10000,100000,1000000]:\n",
    "    produtorio *= int(stringona[d-1])\n",
    "print(produtorio)"
   ]
  },
  {
   "cell_type": "code",
   "execution_count": 27,
   "metadata": {},
   "outputs": [
    {
     "data": {
      "text/plain": [
       "210"
      ]
     },
     "execution_count": 27,
     "metadata": {},
     "output_type": "execute_result"
    }
   ],
   "source": [
    "math.prod([int(\"\".join([str(i) for i in range(1,1000000)])[(10**d) -1]) for d in range(6)])\n"
   ]
  }
 ],
 "metadata": {
  "kernelspec": {
   "display_name": "Python 3",
   "language": "python",
   "name": "python3"
  },
  "language_info": {
   "codemirror_mode": {
    "name": "ipython",
    "version": 3
   },
   "file_extension": ".py",
   "mimetype": "text/x-python",
   "name": "python",
   "nbconvert_exporter": "python",
   "pygments_lexer": "ipython3",
   "version": "3.10.5"
  },
  "orig_nbformat": 4
 },
 "nbformat": 4,
 "nbformat_minor": 2
}
