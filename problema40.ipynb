{
 "cells": [
  {
   "attachments": {},
   "cell_type": "markdown",
   "metadata": {},
   "source": [
    "### Champernowne's constant\n",
    "#### Problema 40\n",
    "\n",
    "An irrational decimal fraction is created by concatenating the positive integers:\n",
    "\n",
    "0.123456789101112131415161718192021...\n",
    "\n",
    "It can be seen that the 12th digit of the fractional part is 1.\n",
    "\n",
    "If dn represents the nth digit of the fractional part, find the value of the following expression.\n",
    "\n",
    "d1 × d10 × d100 × d1000 × d10000 × d100000 × d1000000"
   ]
  },
  {
   "cell_type": "code",
   "execution_count": 2,
   "metadata": {},
   "outputs": [
    {
     "name": "stdout",
     "output_type": "stream",
     "text": [
      "210\n"
     ]
    }
   ],
   "source": [
    "import math\n",
    "\n",
    "vec = []\n",
    "for i in range(1,1000000):\n",
    "    vec.append(str(i))\n",
    "stringona = \"\".join(vec)\n",
    "produtorio = 1\n",
    "for d in [1,10,100,1000,10000,100000,1000000]:\n",
    "    produtorio *= int(stringona[d-1])\n",
    "print(produtorio)"
   ]
  },
  {
   "cell_type": "code",
   "execution_count": 25,
   "metadata": {},
   "outputs": [
    {
     "data": {
      "text/plain": [
       "[1, 1, 5, 3, 7, 2]"
      ]
     },
     "execution_count": 25,
     "metadata": {},
     "output_type": "execute_result"
    }
   ],
   "source": [
    "[int(\"\".join([str(i) for i in range(1,10**(d+1))])[(10**d) -1]) for d in range(6)]"
   ]
  },
  {
   "cell_type": "code",
   "execution_count": 3,
   "metadata": {},
   "outputs": [
    {
     "data": {
      "text/plain": [
       "210"
      ]
     },
     "execution_count": 3,
     "metadata": {},
     "output_type": "execute_result"
    }
   ],
   "source": [
    "math.prod([int(\"\".join([str(i) for i in range(1,10**(d+1))])[(10**d) -1]) for d in range(6)])\n"
   ]
  },
  {
   "cell_type": "code",
   "execution_count": 21,
   "metadata": {},
   "outputs": [
    {
     "name": "stdout",
     "output_type": "stream",
     "text": [
      "210\n"
     ]
    }
   ],
   "source": [
    "def getDigit(n):\n",
    "    \"\"\" find the smallest 'k' such that the total number of digits used to represent numbers '1 to k' is '>= n'. \"\"\"\n",
    "    k = 1\n",
    "    while n > 9 * k * 10 ** (k - 1):\n",
    "        \"\"\" decreased by the number of digits needed to represent the current '1 to k' range. \"\"\"\n",
    "        n -= 9 * k * 10 ** (k - 1)\n",
    "        k += 1\n",
    "\n",
    "    \"\"\" determine which number 'dn' belongs to for a given 'n'. \"\"\"\n",
    "    num = 10 ** (k - 1) + (n - 1) // k\n",
    "    \"\"\" get the position of 'dn' within the number. \"\"\"\n",
    "    pos = (n - 1) % k\n",
    "  \n",
    "    return int(str(num)[pos])\n",
    "\n",
    "digit_prod = getDigit(1) * getDigit(10) * getDigit(100) * getDigit(1000) * getDigit(10000) * getDigit(100000) * getDigit(1000000)\n",
    "print(digit_prod)"
   ]
  },
  {
   "cell_type": "code",
   "execution_count": 1,
   "metadata": {},
   "outputs": [
    {
     "name": "stdout",
     "output_type": "stream",
     "text": [
      "1 1 *\n",
      "10 1 *\n",
      "100 5 *\n",
      "1000 3 *\n",
      "10000 7 *\n",
      "100000 2 *\n",
      "1000000 1 *\n",
      "result = 210\n"
     ]
    }
   ],
   "source": [
    "from functools import reduce\n",
    "collector = []\n",
    "c = 0\n",
    "for i in range(1,1000000):\n",
    "    x = [int(i) for i in str(i)]\n",
    "    for j in x:\n",
    "        c += 1\n",
    "        if c == 1 or c == 10 or c == 100\\\n",
    "                or c == 1000 or c == 10000\\\n",
    "                or c == 100000 or c == 1000000:\n",
    "            collector.append(j)\n",
    "            print(c, j, '*')\n",
    "print('result =', reduce(lambda x,y: x*y, collector))"
   ]
  }
 ],
 "metadata": {
  "kernelspec": {
   "display_name": "Python 3",
   "language": "python",
   "name": "python3"
  },
  "language_info": {
   "codemirror_mode": {
    "name": "ipython",
    "version": 3
   },
   "file_extension": ".py",
   "mimetype": "text/x-python",
   "name": "python",
   "nbconvert_exporter": "python",
   "pygments_lexer": "ipython3",
   "version": "3.10.5"
  },
  "orig_nbformat": 4
 },
 "nbformat": 4,
 "nbformat_minor": 2
}
