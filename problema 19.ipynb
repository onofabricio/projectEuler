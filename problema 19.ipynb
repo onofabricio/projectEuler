{
 "cells": [
  {
   "attachments": {},
   "cell_type": "markdown",
   "metadata": {},
   "source": [
    "### Counting Sundays\n",
    "#### Problema 19\n",
    "\n",
    "\n",
    "You are given the following information, but you may prefer to do some research for yourself.\n",
    "  \n",
    "1 Jan 1900 was a Monday.  \n",
    "Thirty days has September,  \n",
    "April, June and November.  \n",
    "All the rest have thirty-one,  \n",
    "Saving February alone,  \n",
    "Which has twenty-eight, rain or shine.  \n",
    "And on leap years, twenty-nine.  \n",
    "A leap year occurs on any year evenly divisible by 4, but not on a century unless it is divisible by 400.  \n",
    "How many Sundays fell on the first of the month during the twentieth century (1 Jan 1901 to 31 Dec 2000)?"
   ]
  },
  {
   "cell_type": "code",
   "execution_count": 1,
   "metadata": {},
   "outputs": [
    {
     "ename": "KeyboardInterrupt",
     "evalue": "",
     "output_type": "error",
     "traceback": [
      "\u001b[1;31m---------------------------------------------------------------------------\u001b[0m",
      "\u001b[1;31mKeyboardInterrupt\u001b[0m                         Traceback (most recent call last)",
      "\u001b[1;32mc:\\Users\\Fabricio Brum\\Desktop\\projectEuler\\projectEuler\\problema 19.ipynb Cell 2\u001b[0m in \u001b[0;36m<cell line: 7>\u001b[1;34m()\u001b[0m\n\u001b[0;32m      <a href='vscode-notebook-cell:/c%3A/Users/Fabricio%20Brum/Desktop/projectEuler/projectEuler/problema%2019.ipynb#W2sZmlsZQ%3D%3D?line=5'>6</a>\u001b[0m ano \u001b[39m=\u001b[39m ano_inicial\n\u001b[0;32m      <a href='vscode-notebook-cell:/c%3A/Users/Fabricio%20Brum/Desktop/projectEuler/projectEuler/problema%2019.ipynb#W2sZmlsZQ%3D%3D?line=6'>7</a>\u001b[0m \u001b[39mwhile\u001b[39;00m ano\u001b[39m<\u001b[39m\u001b[39m2001\u001b[39m:\n\u001b[1;32m----> <a href='vscode-notebook-cell:/c%3A/Users/Fabricio%20Brum/Desktop/projectEuler/projectEuler/problema%2019.ipynb#W2sZmlsZQ%3D%3D?line=7'>8</a>\u001b[0m     \u001b[39mif\u001b[39;00m ano \u001b[39m%\u001b[39;49m \u001b[39m4\u001b[39;49m \u001b[39m==\u001b[39;49m \u001b[39m0\u001b[39;49m:\n\u001b[0;32m      <a href='vscode-notebook-cell:/c%3A/Users/Fabricio%20Brum/Desktop/projectEuler/projectEuler/problema%2019.ipynb#W2sZmlsZQ%3D%3D?line=8'>9</a>\u001b[0m         meses \u001b[39m=\u001b[39m {\u001b[39m\"\u001b[39m\u001b[39mjaneiro\u001b[39m\u001b[39m\"\u001b[39m: \u001b[39m31\u001b[39m,\u001b[39m\"\u001b[39m\u001b[39mfevereiro\u001b[39m\u001b[39m\"\u001b[39m: \u001b[39m29\u001b[39m,\u001b[39m\"\u001b[39m\u001b[39mmarço\u001b[39m\u001b[39m\"\u001b[39m: \u001b[39m31\u001b[39m,\u001b[39m\"\u001b[39m\u001b[39mabril\u001b[39m\u001b[39m\"\u001b[39m: \u001b[39m30\u001b[39m, \u001b[39m\"\u001b[39m\u001b[39mmaio\u001b[39m\u001b[39m\"\u001b[39m: \u001b[39m31\u001b[39m, \u001b[39m\"\u001b[39m\u001b[39mjunho\u001b[39m\u001b[39m\"\u001b[39m: \u001b[39m30\u001b[39m,\u001b[39m\"\u001b[39m\u001b[39mjulho\u001b[39m\u001b[39m\"\u001b[39m: \u001b[39m31\u001b[39m,\u001b[39m\"\u001b[39m\u001b[39magosto\u001b[39m\u001b[39m\"\u001b[39m: \u001b[39m31\u001b[39m,\u001b[39m\"\u001b[39m\u001b[39msetembro\u001b[39m\u001b[39m\"\u001b[39m: \u001b[39m30\u001b[39m,\u001b[39m\"\u001b[39m\u001b[39moutubro\u001b[39m\u001b[39m\"\u001b[39m: \u001b[39m31\u001b[39m,\u001b[39m\"\u001b[39m\u001b[39mnovembro\u001b[39m\u001b[39m\"\u001b[39m: \u001b[39m30\u001b[39m,\u001b[39m\"\u001b[39m\u001b[39mdezembro\u001b[39m\u001b[39m\"\u001b[39m: \u001b[39m31\u001b[39m}\n\u001b[0;32m     <a href='vscode-notebook-cell:/c%3A/Users/Fabricio%20Brum/Desktop/projectEuler/projectEuler/problema%2019.ipynb#W2sZmlsZQ%3D%3D?line=9'>10</a>\u001b[0m     \u001b[39melse\u001b[39;00m:\n",
      "\u001b[1;31mKeyboardInterrupt\u001b[0m: "
     ]
    }
   ],
   "source": [
    "import itertools\n",
    "\n",
    "dia_da_semana = itertools.chain([1,2,3,4,5,6,7])\n",
    "ano_inicial = 1901\n",
    "ano_final = 2000\n",
    "ano = ano_inicial\n",
    "while ano<2001:\n",
    "    if ano % 4 == 0:\n",
    "        meses = {\"janeiro\": 31,\"fevereiro\": 29,\"março\": 31,\"abril\": 30, \"maio\": 31, \"junho\": 30,\"julho\": 31,\"agosto\": 31,\"setembro\": 30,\"outubro\": 31,\"novembro\": 30,\"dezembro\": 31}\n",
    "    else:\n",
    "        meses = {\"janeiro\": 31,\"fevereiro\": 28,\"março\": 31,\"abril\": 30, \"maio\": 31, \"junho\": 30,\"julho\": 31,\"agosto\": 31,\"setembro\": 30,\"outubro\": 31,\"novembro\": 30,\"dezembro\": 31}\n",
    "        \n",
    "   "
   ]
  },
  {
   "cell_type": "code",
   "execution_count": 4,
   "metadata": {},
   "outputs": [
    {
     "ename": "TypeError",
     "evalue": "'itertools.chain' object is not subscriptable",
     "output_type": "error",
     "traceback": [
      "\u001b[1;31m---------------------------------------------------------------------------\u001b[0m",
      "\u001b[1;31mTypeError\u001b[0m                                 Traceback (most recent call last)",
      "\u001b[1;32mc:\\Users\\Fabricio Brum\\Desktop\\projectEuler\\projectEuler\\problema 19.ipynb Cell 3\u001b[0m in \u001b[0;36m<cell line: 1>\u001b[1;34m()\u001b[0m\n\u001b[1;32m----> <a href='vscode-notebook-cell:/c%3A/Users/Fabricio%20Brum/Desktop/projectEuler/projectEuler/problema%2019.ipynb#W3sZmlsZQ%3D%3D?line=0'>1</a>\u001b[0m dia_da_semana[\u001b[39m13\u001b[39;49m]\n",
      "\u001b[1;31mTypeError\u001b[0m: 'itertools.chain' object is not subscriptable"
     ]
    }
   ],
   "source": [
    "dia_da_semana[13]"
   ]
  }
 ],
 "metadata": {
  "kernelspec": {
   "display_name": "Python 3",
   "language": "python",
   "name": "python3"
  },
  "language_info": {
   "codemirror_mode": {
    "name": "ipython",
    "version": 3
   },
   "file_extension": ".py",
   "mimetype": "text/x-python",
   "name": "python",
   "nbconvert_exporter": "python",
   "pygments_lexer": "ipython3",
   "version": "3.10.5"
  },
  "orig_nbformat": 4
 },
 "nbformat": 4,
 "nbformat_minor": 2
}
