{
 "cells": [
  {
   "attachments": {},
   "cell_type": "markdown",
   "metadata": {},
   "source": [
    "## Summation of primes\n",
    "Problem 10\n",
    "\n",
    "The sum of the primes below 10 is 2 + 3 + 5 + 7 = 17.\n",
    "\n",
    "Find the sum of all the primes below two million."
   ]
  },
  {
   "cell_type": "code",
   "execution_count": 14,
   "metadata": {},
   "outputs": [],
   "source": [
    "def verifica_primo(n):\n",
    "    divisores=[]\n",
    "    for i in range(1, n):\n",
    "        if n%i == 0:\n",
    "            divisores.append(n)\n",
    "            \n",
    "            if len(divisores)>1:\n",
    "                return False\n",
    "    else:\n",
    "        return True\n",
    "    "
   ]
  },
  {
   "cell_type": "code",
   "execution_count": 18,
   "metadata": {},
   "outputs": [],
   "source": [
    "primos=[]\n",
    "for i in range(2, 2000000):\n",
    "    if verifica_primo(i):\n",
    "        primos.append(i)"
   ]
  },
  {
   "cell_type": "code",
   "execution_count": 21,
   "metadata": {},
   "outputs": [
    {
     "data": {
      "text/plain": [
       "142913828922"
      ]
     },
     "execution_count": 21,
     "metadata": {},
     "output_type": "execute_result"
    }
   ],
   "source": [
    "sum(primos)"
   ]
  },
  {
   "attachments": {},
   "cell_type": "markdown",
   "metadata": {},
   "source": [
    "### codigo otimizado "
   ]
  },
  {
   "cell_type": "code",
   "execution_count": 23,
   "metadata": {},
   "outputs": [
    {
     "data": {
      "text/plain": [
       "142913828922"
      ]
     },
     "execution_count": 23,
     "metadata": {},
     "output_type": "execute_result"
    }
   ],
   "source": [
    "#Sieve of Eratosthenes\n",
    "def Soma_de_primos(n):\n",
    "    primos = [True] * (n + 1)\n",
    "    s = 2\n",
    "    while s * s <= n:\n",
    "        if primos[s] == True:\n",
    "            for i in range(s*2, n+1, s):\n",
    "                primos[i] = False\n",
    "        s = s + 1\n",
    "        \n",
    "    sum = 0\n",
    "    for i in range (2, n + 1):\n",
    "        if(primos[i]):\n",
    "            sum = sum + i\n",
    "    return sum\n",
    "\n",
    "Soma_de_primos(2000000)"
   ]
  }
 ],
 "metadata": {
  "kernelspec": {
   "display_name": "Python 3",
   "language": "python",
   "name": "python3"
  },
  "language_info": {
   "codemirror_mode": {
    "name": "ipython",
    "version": 3
   },
   "file_extension": ".py",
   "mimetype": "text/x-python",
   "name": "python",
   "nbconvert_exporter": "python",
   "pygments_lexer": "ipython3",
   "version": "3.10.5"
  },
  "orig_nbformat": 4,
  "vscode": {
   "interpreter": {
    "hash": "efa2bc66e88a51196068b5b3b6b1d5eff6c0894d7c25ed73f8b1e0e4ecc65593"
   }
  }
 },
 "nbformat": 4,
 "nbformat_minor": 2
}
