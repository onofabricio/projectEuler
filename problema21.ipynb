{
 "cells": [
  {
   "attachments": {},
   "cell_type": "markdown",
   "metadata": {},
   "source": [
    "### Amicable Numbers\n",
    "#### Problem 21\n",
    "\n",
    "Let d(n) be defined as the sum of proper divisors of n (numbers less than n which divide evenly into n).\n",
    "If d(a) = b and d(b) = a, where a ≠ b, then a and b are an amicable pair and each of a and b are called amicable numbers.\n",
    "\n",
    "For example, the proper divisors of 220 are 1, 2, 4, 5, 10, 11, 20, 22, 44, 55 and 110; therefore d(220) = 284. The proper divisors of 284 are 1, 2, 4, 71 and 142; so d(284) = 220.\n",
    "\n",
    "Evaluate the sum of all the amicable numbers under 1000"
   ]
  },
  {
   "cell_type": "code",
   "execution_count": 1,
   "metadata": {},
   "outputs": [],
   "source": [
    "def sum_of_proper_divisors(numero):\n",
    "    soma = sum([i for i in range(2, numero) if numero % i == 0])\n",
    "    return soma"
   ]
  },
  {
   "cell_type": "code",
   "execution_count": 2,
   "metadata": {},
   "outputs": [
    {
     "data": {
      "text/plain": [
       "41274"
      ]
     },
     "execution_count": 2,
     "metadata": {},
     "output_type": "execute_result"
    }
   ],
   "source": [
    "def sum_of_proper_divisors(numero):\n",
    "    soma = sum([i for i in range(2, numero) if numero % i == 0])\n",
    "    return soma\n",
    "\n",
    "\n",
    "vec = []\n",
    "for i in range(10000):\n",
    "    if i == sum_of_proper_divisors(sum_of_proper_divisors(i)):\n",
    "        vec.append(i)\n",
    "sum(vec)"
   ]
  },
  {
   "cell_type": "code",
   "execution_count": 3,
   "metadata": {},
   "outputs": [
    {
     "name": "stdout",
     "output_type": "stream",
     "text": [
      "31626\n",
      "It took 3.326310157775879 seconds\n"
     ]
    }
   ],
   "source": [
    "import time, math\n",
    "\n",
    "start = time.time()\n",
    "\n",
    "amicable_nums = set()\n",
    "\n",
    "def sum_div(n):\n",
    "    total = 1\n",
    "    for x in range(2, int(math.sqrt(n) + 1)):\n",
    "        if n % x == 0:\n",
    "            total += x\n",
    "            y = n // x\n",
    "            if y > x:\n",
    "                total += y\n",
    "    return total\n",
    "\n",
    "for i in range(1, 10000):\n",
    "    sdi = sum_div(i)\n",
    "    for j in range(i+1, 10000):\n",
    "        if sdi == j and sum_div(j) == i:\n",
    "            amicable_nums.update([i, j])\n",
    "\n",
    "print(sum(amicable_nums))\n",
    "print(\"It took \" + str(time.time() - start) + \" seconds\")\n",
    "\n"
   ]
  },
  {
   "cell_type": "code",
   "execution_count": 4,
   "metadata": {},
   "outputs": [
    {
     "data": {
      "text/plain": [
       "{220, 284, 1184, 1210, 2620, 2924, 5020, 5564, 6232, 6368}"
      ]
     },
     "execution_count": 4,
     "metadata": {},
     "output_type": "execute_result"
    }
   ],
   "source": [
    "amicable_nums"
   ]
  },
  {
   "cell_type": "code",
   "execution_count": 5,
   "metadata": {},
   "outputs": [
    {
     "data": {
      "text/plain": [
       "[0,\n",
       " 48,\n",
       " 75,\n",
       " 140,\n",
       " 195,\n",
       " 1050,\n",
       " 1575,\n",
       " 1648,\n",
       " 1925,\n",
       " 2024,\n",
       " 2295,\n",
       " 5775,\n",
       " 6128,\n",
       " 8892,\n",
       " 9504]"
      ]
     },
     "execution_count": 5,
     "metadata": {},
     "output_type": "execute_result"
    }
   ],
   "source": [
    "vec"
   ]
  },
  {
   "cell_type": "code",
   "execution_count": 6,
   "metadata": {},
   "outputs": [
    {
     "data": {
      "text/plain": [
       "15"
      ]
     },
     "execution_count": 6,
     "metadata": {},
     "output_type": "execute_result"
    }
   ],
   "source": [
    "len(vec)"
   ]
  },
  {
   "cell_type": "code",
   "execution_count": 7,
   "metadata": {},
   "outputs": [
    {
     "data": {
      "text/plain": [
       "41274"
      ]
     },
     "execution_count": 7,
     "metadata": {},
     "output_type": "execute_result"
    }
   ],
   "source": [
    "sum(vec)"
   ]
  },
  {
   "cell_type": "code",
   "execution_count": 8,
   "metadata": {},
   "outputs": [
    {
     "data": {
      "text/plain": [
       "283"
      ]
     },
     "execution_count": 8,
     "metadata": {},
     "output_type": "execute_result"
    }
   ],
   "source": [
    "sum_of_proper_divisors(220)"
   ]
  },
  {
   "cell_type": "code",
   "execution_count": 9,
   "metadata": {},
   "outputs": [
    {
     "data": {
      "text/plain": [
       "0"
      ]
     },
     "execution_count": 9,
     "metadata": {},
     "output_type": "execute_result"
    }
   ],
   "source": [
    "sum_of_proper_divisors(sum_of_proper_divisors(214))"
   ]
  }
 ],
 "metadata": {
  "kernelspec": {
   "display_name": "Python 3",
   "language": "python",
   "name": "python3"
  },
  "language_info": {
   "codemirror_mode": {
    "name": "ipython",
    "version": 3
   },
   "file_extension": ".py",
   "mimetype": "text/x-python",
   "name": "python",
   "nbconvert_exporter": "python",
   "pygments_lexer": "ipython3",
   "version": "3.10.5"
  },
  "orig_nbformat": 4
 },
 "nbformat": 4,
 "nbformat_minor": 2
}
