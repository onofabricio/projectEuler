{
 "cells": [
  {
   "attachments": {},
   "cell_type": "markdown",
   "metadata": {},
   "source": [
    "### Number spiral diagonals\n",
    "#### Problem 28\n",
    "\n",
    "Starting with the number 1 and moving to the right in a clockwise direction a 5 by 5 spiral is formed as follows:\n",
    "\n",
    "21 22 23 24 25  \n",
    "20  7  8  9 10  \n",
    "19  6  1  2 11  \n",
    "18  5  4  3 12  \n",
    "17 16 15 14 13  \n",
    "\n",
    "It can be verified that the sum of the numbers on the diagonals is 101.\n",
    "\n",
    "What is the sum of the numbers on the diagonals in a 1001 by 1001 spiral formed in the same way?"
   ]
  },
  {
   "cell_type": "code",
   "execution_count": 18,
   "metadata": {},
   "outputs": [],
   "source": [
    "matriz = [[0 for i in range(5)] for j in range(5)]\n",
    "matriz[int(len(matriz)/2)][int(len(matriz)/2)] = 1\n",
    "matriz = [ \n",
    "[43, 44, 45, 46, 47, 48, 49],          \n",
    "[42, 21, 22, 23, 24, 25, 26],\n",
    "[41, 20, 7, 8, 9, 10, 27],\n",
    "[40, 19, 6, 1, 2, 11, 28],\n",
    "[39, 18, 5, 4, 3, 12, 29],\n",
    "[38, 17, 16, 15, 14, 13, 30],\n",
    "[37, 36, 35, 34, 33, 32, 31]]\n",
    "\n",
    "diagonal1 = [matriz[i][i] for i in range(len(matriz))]\n",
    "diagonal2 = [matriz[i][len(matriz)- i - 1] for i in range(len(matriz))]"
   ]
  },
  {
   "cell_type": "code",
   "execution_count": 8,
   "metadata": {},
   "outputs": [
    {
     "data": {
      "text/plain": [
       "[[43, 44, 45, 46, 47, 48, 49],\n",
       " [42, 21, 22, 23, 24, 25, 26],\n",
       " [41, 20, 7, 8, 9, 10, 27],\n",
       " [40, 19, 6, 1, 2, 11, 28],\n",
       " [39, 18, 5, 4, 3, 12, 29],\n",
       " [38, 17, 16, 15, 14, 13, 30],\n",
       " [37, 36, 35, 34, 33, 32, 31]]"
      ]
     },
     "execution_count": 8,
     "metadata": {},
     "output_type": "execute_result"
    }
   ],
   "source": [
    "matriz"
   ]
  },
  {
   "cell_type": "code",
   "execution_count": 10,
   "metadata": {},
   "outputs": [
    {
     "data": {
      "text/plain": [
       "[43, 21, 7, 1, 3, 13, 31]"
      ]
     },
     "execution_count": 10,
     "metadata": {},
     "output_type": "execute_result"
    }
   ],
   "source": [
    "diagonal1"
   ]
  },
  {
   "cell_type": "code",
   "execution_count": 19,
   "metadata": {},
   "outputs": [
    {
     "data": {
      "text/plain": [
       "[49, 25, 9, 1, 5, 17, 37]"
      ]
     },
     "execution_count": 19,
     "metadata": {},
     "output_type": "execute_result"
    }
   ],
   "source": [
    "diagonal2"
   ]
  },
  {
   "cell_type": "code",
   "execution_count": 28,
   "metadata": {},
   "outputs": [],
   "source": [
    "sequencia1 = [9, 25, 49]\n",
    "sequencia2 = [3, 13, 31]\n",
    "sequencia3 = [5, 17, 37]\n",
    "sequencia4 = [7, 21, 49]"
   ]
  },
  {
   "cell_type": "code",
   "execution_count": 33,
   "metadata": {},
   "outputs": [],
   "source": [
    "sequencia1 = [(i)**2 for i in range(3, 50, 2)]\n",
    "sequencia2 = [(i)**2 + 5*i for i in range(1, 50) ]"
   ]
  },
  {
   "cell_type": "code",
   "execution_count": 34,
   "metadata": {},
   "outputs": [
    {
     "name": "stdout",
     "output_type": "stream",
     "text": [
      "[6, 14, 24, 36, 50, 66, 84, 104, 126, 150, 176, 204, 234, 266, 300, 336, 374, 414, 456, 500, 546, 594, 644, 696, 750, 806, 864, 924, 986, 1050, 1116, 1184, 1254, 1326, 1400, 1476, 1554, 1634, 1716, 1800, 1886, 1974, 2064, 2156, 2250, 2346, 2444, 2544, 2646]\n"
     ]
    }
   ],
   "source": [
    "print(sequencia2)"
   ]
  }
 ],
 "metadata": {
  "kernelspec": {
   "display_name": "Python 3",
   "language": "python",
   "name": "python3"
  },
  "language_info": {
   "codemirror_mode": {
    "name": "ipython",
    "version": 3
   },
   "file_extension": ".py",
   "mimetype": "text/x-python",
   "name": "python",
   "nbconvert_exporter": "python",
   "pygments_lexer": "ipython3",
   "version": "3.10.5"
  },
  "orig_nbformat": 4
 },
 "nbformat": 4,
 "nbformat_minor": 2
}
