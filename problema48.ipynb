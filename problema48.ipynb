{
 "cells": [
  {
   "attachments": {},
   "cell_type": "markdown",
   "metadata": {},
   "source": [
    "### Self Powers\n",
    "#### Problema 48\n",
    "\n",
    "The series, 11 + 22 + 33 + ... + 1010 = 10405071317.\n",
    "\n",
    "Find the last ten digits of the series, 11 + 22 + 33 + ... + 10001000."
   ]
  },
  {
   "cell_type": "code",
   "execution_count": 11,
   "metadata": {},
   "outputs": [
    {
     "name": "stdout",
     "output_type": "stream",
     "text": [
      "9110846700\n"
     ]
    }
   ],
   "source": [
    "soma = 0\n",
    "for i in range(1, 1000):\n",
    "    soma = soma + i**i\n",
    "numeros=[]\n",
    "for i in reversed(str(soma)):\n",
    "    numeros.append(i)\n",
    "    if len(numeros) == 10:\n",
    "        break\n",
    "print(''.join(numeros[::-1]))"
   ]
  }
 ],
 "metadata": {
  "kernelspec": {
   "display_name": "Python 3",
   "language": "python",
   "name": "python3"
  },
  "language_info": {
   "codemirror_mode": {
    "name": "ipython",
    "version": 3
   },
   "file_extension": ".py",
   "mimetype": "text/x-python",
   "name": "python",
   "nbconvert_exporter": "python",
   "pygments_lexer": "ipython3",
   "version": "3.10.5"
  },
  "orig_nbformat": 4,
  "vscode": {
   "interpreter": {
    "hash": "efa2bc66e88a51196068b5b3b6b1d5eff6c0894d7c25ed73f8b1e0e4ecc65593"
   }
  }
 },
 "nbformat": 4,
 "nbformat_minor": 2
}
