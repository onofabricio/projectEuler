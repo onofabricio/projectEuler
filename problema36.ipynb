{
 "cells": [
  {
   "attachments": {},
   "cell_type": "markdown",
   "metadata": {},
   "source": [
    "### Double-base palindromes\n",
    "#### Problem 36\n",
    "\n",
    "The decimal number, 585 = 10010010012 (binary), is palindromic in both bases.\n",
    "\n",
    "Find the sum of all numbers, less than one million, which are palindromic in base 10 and base 2.\n",
    "\n",
    "(Please note that the palindromic number, in either base, may not include leading zeros.)"
   ]
  },
  {
   "cell_type": "code",
   "execution_count": 15,
   "metadata": {},
   "outputs": [
    {
     "name": "stdout",
     "output_type": "stream",
     "text": [
      "872187\n"
     ]
    }
   ],
   "source": [
    "def verifica_palindromo10(n):\n",
    "    \n",
    "    n1 = str(n)\n",
    "    n2 = str(n)[::-1]\n",
    "    if n1 == n2:\n",
    "        return True\n",
    "    else:\n",
    "        return False\n",
    "\n",
    "def verifica_palindromo2(n):\n",
    "    \n",
    "    n1 = str(bin(n))[2:]\n",
    "    n2 = str(bin(n))[2:][::-1]\n",
    "    if n1 == n2:\n",
    "        return True\n",
    "    else:\n",
    "        return False\n",
    "    \n",
    "\n",
    "soma = 0\n",
    "for i in range(10**6):\n",
    "    if verifica_palindromo10(i) and verifica_palindromo2(i):\n",
    "        soma += i\n",
    "        \n",
    "print(soma)"
   ]
  }
 ],
 "metadata": {
  "kernelspec": {
   "display_name": "Python 3",
   "language": "python",
   "name": "python3"
  },
  "language_info": {
   "codemirror_mode": {
    "name": "ipython",
    "version": 3
   },
   "file_extension": ".py",
   "mimetype": "text/x-python",
   "name": "python",
   "nbconvert_exporter": "python",
   "pygments_lexer": "ipython3",
   "version": "3.10.5"
  },
  "orig_nbformat": 4
 },
 "nbformat": 4,
 "nbformat_minor": 2
}
