{
 "cells": [
  {
   "attachments": {},
   "cell_type": "markdown",
   "metadata": {},
   "source": [
    "## Longest Collatz sequence\n",
    "\n",
    "The following iterative sequence is defined for the set of positive integers:\n",
    "\n",
    "n → n/2 (n is even)\n",
    "n → 3n + 1 (n is odd)\n",
    "\n",
    "Using the rule above and starting with 13, we generate the following sequence:\n",
    "\n",
    "13 → 40 → 20 → 10 → 5 → 16 → 8 → 4 → 2 → 1\n",
    "It can be seen that this sequence (starting at 13 and finishing at 1) contains 10 terms. Although it has not been proved yet (Collatz Problem), it is thought that all starting numbers finish at 1.\n",
    "\n",
    "Which starting number, under one million, produces the longest chain?\n",
    "\n",
    "NOTE: Once the chain starts the terms are allowed to go above one million."
   ]
  },
  {
   "cell_type": "code",
   "execution_count": 18,
   "metadata": {},
   "outputs": [
    {
     "name": "stdout",
     "output_type": "stream",
     "text": [
      "Resposta:  837799\n"
     ]
    }
   ],
   "source": [
    "import pandas as pd\n",
    "df = pd.DataFrame(columns=[\"n\", \"len_chain\"])\n",
    "vec_lens = []\n",
    "vec_ns = []\n",
    "for n in reversed(range(1000000)):\n",
    "    num_inicial = n\n",
    "    vec = []\n",
    "    while n>1:\n",
    "        vec.append(int(n))\n",
    "        if n % 2 == 0:\n",
    "            n = n/2\n",
    "        else: \n",
    "            n = 3*n + 1\n",
    "    vec.append(1)\n",
    "    vec_lens.append(len(vec))\n",
    "    vec_ns.append(num_inicial)\n",
    "    \n",
    "print(\"Resposta: \",vec_ns[vec_lens.index(max(vec_lens))])\n",
    "    \n",
    "    "
   ]
  }
 ],
 "metadata": {
  "kernelspec": {
   "display_name": "Python 3",
   "language": "python",
   "name": "python3"
  },
  "language_info": {
   "codemirror_mode": {
    "name": "ipython",
    "version": 3
   },
   "file_extension": ".py",
   "mimetype": "text/x-python",
   "name": "python",
   "nbconvert_exporter": "python",
   "pygments_lexer": "ipython3",
   "version": "3.10.5"
  },
  "orig_nbformat": 4,
  "vscode": {
   "interpreter": {
    "hash": "efa2bc66e88a51196068b5b3b6b1d5eff6c0894d7c25ed73f8b1e0e4ecc65593"
   }
  }
 },
 "nbformat": 4,
 "nbformat_minor": 2
}
