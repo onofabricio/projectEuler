{
 "cells": [
  {
   "attachments": {},
   "cell_type": "markdown",
   "metadata": {},
   "source": [
    "### Quadratic primes \n",
    "#### Problem 27\n",
    "\n",
    "Euler discovered the remarkable quadratic formula:\n",
    "\n",
    "n^2 + n + 41\n",
    "\n",
    "\n",
    "It turns out that the formula will produce 40 primes for the consecutive integer values 0 <= n <= 39 . However, when \n",
    "n = 40, 40^2 + 40 + 41 = 40(40+1) + 41  is divisible by 41, and certainly when n = 41, 41^2 + 41 + 41\n",
    " is clearly divisible by 41.\n",
    "\n",
    "The incredible formula n^2 - 79n + 1601\n",
    " was discovered, which produces 80 primes for the consecutive values 0<= n <= 79 \n",
    ". The product of the coefficients, −79 and 1601, is −126479.\n",
    "\n",
    "Considering quadratics of the form:\n",
    "\n",
    "\n",
    "n^2 + an + b, where |a| < 1000 and |b| < 1000\n",
    "\n",
    "\n",
    "where |n| is the modulus/absolute value of n\n",
    "\n",
    "e.g. |11| = 11\n",
    " and |-4| = 4\n",
    "Find the product of the coefficients, a and b\n",
    ", for the quadratic expression that produces the maximum number of primes for consecutive values of n\n",
    ", starting with n = 0\n",
    "."
   ]
  },
  {
   "cell_type": "code",
   "execution_count": 53,
   "metadata": {},
   "outputs": [
    {
     "name": "stdout",
     "output_type": "stream",
     "text": [
      "start\n",
      "n^2 +  -61 n +  971\n",
      "72\n",
      "-59231\n"
     ]
    }
   ],
   "source": [
    "n = 100000\n",
    "primos = [True] * (n + 1)\n",
    "s = 2\n",
    "while s * s <= n:\n",
    "    if primos[s] == True:\n",
    "        for i in range(s*2, n+1, s):\n",
    "            primos[i] = False\n",
    "    s = s + 1\n",
    "\n",
    "def testa(a, b):\n",
    "    \n",
    "    exp = lambda n: (n**2) + (a*n) + b\n",
    "    cond = True\n",
    "    n=0\n",
    "    while cond == True:\n",
    "        #print(\"=========\",\"n = \",n,\"=========\")\n",
    "        #print(\"exp(n) = \", exp(n))\n",
    "        cond = primos[exp(n)]\n",
    "        #print(cond)\n",
    "        n = n+1\n",
    "        \n",
    "    return n \n",
    "\n",
    "maior_n = 0\n",
    "for a in range(-999, 999):\n",
    "    for b in range(-1000, 1000):\n",
    "        #print(maior_n)\n",
    "        n = testa(a = a, b = b)\n",
    "        if n > maior_n:\n",
    "            maior_n = n\n",
    "            melhor_a = a\n",
    "            melhor_b = b\n",
    "            \n",
    "print(\"n^2 + \",melhor_a,\"n + \",melhor_b)\n",
    "print(maior_n)    \n",
    "print(melhor_a*melhor_b)"
   ]
  },
  {
   "cell_type": "code",
   "execution_count": 42,
   "metadata": {},
   "outputs": [],
   "source": [
    "n=10000\n",
    "primos = [True] * (n + 1)\n",
    "s = 2\n",
    "while s * s <= n:\n",
    "    if primos[s] == True:\n",
    "        for i in range(s*2, n+1, s):\n",
    "            primos[i] = False\n",
    "    s = s + 1\n",
    "    \n",
    "\n",
    "\n"
   ]
  }
 ],
 "metadata": {
  "kernelspec": {
   "display_name": "Python 3",
   "language": "python",
   "name": "python3"
  },
  "language_info": {
   "codemirror_mode": {
    "name": "ipython",
    "version": 3
   },
   "file_extension": ".py",
   "mimetype": "text/x-python",
   "name": "python",
   "nbconvert_exporter": "python",
   "pygments_lexer": "ipython3",
   "version": "3.10.5"
  },
  "orig_nbformat": 4
 },
 "nbformat": 4,
 "nbformat_minor": 2
}
