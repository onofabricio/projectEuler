{
 "cells": [
  {
   "attachments": {},
   "cell_type": "markdown",
   "metadata": {},
   "source": [
    "By starting at the top of the triangle below and moving to adjacent numbers on the row below, the maximum total from top to bottom is 23.\n",
    "\n",
    "3  \n",
    "7 4  \n",
    "2 4 6  \n",
    "8 5 9 3  \n",
    "\n",
    "That is, 3 + 7 + 4 + 9 = 23.\n",
    "\n",
    "Find the maximum total from top to bottom of the triangle below:\n",
    "\n",
    "75  \n",
    "95 64  \n",
    "17 47 82  \n",
    "18 35 87 10  \n",
    "20 04 82 47 65  \n",
    "19 01 23 75 03 34  \n",
    "88 02 77 73 07 63 67  \n",
    "99 65 04 28 06 16 70 92  \n",
    "41 41 26 56 83 40 80 70 33  \n",
    "41 48 72 33 47 32 37 16 94 29  \n",
    "53 71 44 65 25 43 91 52 97 51 14  \n",
    "70 11 33 28 77 73 17 78 39 68 17 57  \n",
    "91 71 52 38 17 14 91 43 58 50 27 29 48  \n",
    "63 66 04 68 89 53 67 30 73 16 69 87 40 31  \n",
    "04 62 98 27 23 09 70 98 73 93 38 53 60 04 23  \n",
    "\n",
    "NOTE: As there are only 16384 routes, it is possible to solve this problem by trying every route. However, Problem 67, is the same challenge with a triangle containing one-hundred rows; it cannot be solved by brute force, and requires a clever method! ;o)"
   ]
  },
  {
   "cell_type": "code",
   "execution_count": 1,
   "metadata": {},
   "outputs": [],
   "source": [
    "arvore = \"\"\"75\n",
    "95 64\n",
    "17 47 82\n",
    "18 35 87 10\n",
    "20 04 82 47 65\n",
    "19 01 23 75 03 34\n",
    "88 02 77 73 07 63 67\n",
    "99 65 04 28 06 16 70 92\n",
    "41 41 26 56 83 40 80 70 33\n",
    "41 48 72 33 47 32 37 16 94 29\n",
    "53 71 44 65 25 43 91 52 97 51 14\n",
    "70 11 33 28 77 73 17 78 39 68 17 57\n",
    "91 71 52 38 17 14 91 43 58 50 27 29 48\n",
    "63 66 04 68 89 53 67 30 73 16 69 87 40 31\n",
    "04 62 98 27 23 09 70 98 73 93 38 53 60 04 23\"\"\""
   ]
  },
  {
   "cell_type": "code",
   "execution_count": 2,
   "metadata": {},
   "outputs": [
    {
     "data": {
      "text/plain": [
       "[[75],\n",
       " [95, 64],\n",
       " [17, 47, 82],\n",
       " [18, 35, 87, 10],\n",
       " [20, 4, 82, 47, 65],\n",
       " [19, 1, 23, 75, 3, 34],\n",
       " [88, 2, 77, 73, 7, 63, 67],\n",
       " [99, 65, 4, 28, 6, 16, 70, 92],\n",
       " [41, 41, 26, 56, 83, 40, 80, 70, 33],\n",
       " [41, 48, 72, 33, 47, 32, 37, 16, 94, 29],\n",
       " [53, 71, 44, 65, 25, 43, 91, 52, 97, 51, 14],\n",
       " [70, 11, 33, 28, 77, 73, 17, 78, 39, 68, 17, 57],\n",
       " [91, 71, 52, 38, 17, 14, 91, 43, 58, 50, 27, 29, 48],\n",
       " [63, 66, 4, 68, 89, 53, 67, 30, 73, 16, 69, 87, 40, 31],\n",
       " [4, 62, 98, 27, 23, 9, 70, 98, 73, 93, 38, 53, 60, 4, 23]]"
      ]
     },
     "execution_count": 2,
     "metadata": {},
     "output_type": "execute_result"
    }
   ],
   "source": [
    "arvore = [list(map(int, row.split(\" \"))) for row in arvore.split(\"\\n\")]\n",
    "arvore"
   ]
  },
  {
   "cell_type": "code",
   "execution_count": 23,
   "metadata": {},
   "outputs": [],
   "source": [
    "class ponto:\n",
    "    def __init__(self,arvore, i, j):\n",
    "        try:\n",
    "            self.valor = arvore[i][j]\n",
    "            self.posicaoi = i\n",
    "            self.posicaoj = j\n",
    "            self.esquerda = arvore[i+1][j]\n",
    "            self.direita = arvore[i+1][j+1]\n",
    "        except:\n",
    "            self.valor = arvore[i][j]\n",
    "            self.posicaoi = i\n",
    "            self.posicaoj = j\n",
    "            self.esquerda = 0\n",
    "            self.direita = 0"
   ]
  },
  {
   "cell_type": "code",
   "execution_count": 24,
   "metadata": {},
   "outputs": [
    {
     "name": "stdout",
     "output_type": "stream",
     "text": [
      "[75]\n",
      "[95, 64]\n",
      "[17, 47, 82]\n",
      "[18, 35, 87, 10]\n",
      "[20, 4, 82, 47, 65]\n",
      "[19, 1, 23, 75, 3, 34]\n",
      "[88, 2, 77, 73, 7, 63, 67]\n",
      "[99, 65, 4, 28, 6, 16, 70, 92]\n",
      "[41, 41, 26, 56, 83, 40, 80, 70, 33]\n",
      "[41, 48, 72, 33, 47, 32, 37, 16, 94, 29]\n",
      "[53, 71, 44, 65, 25, 43, 91, 52, 97, 51, 14]\n",
      "[70, 11, 33, 28, 77, 73, 17, 78, 39, 68, 17, 57]\n",
      "[91, 71, 52, 38, 17, 14, 91, 43, 58, 50, 27, 29, 48]\n",
      "[63, 66, 4, 68, 89, 53, 67, 30, 73, 16, 69, 87, 40, 31]\n",
      "[4, 62, 98, 27, 23, 9, 70, 98, 73, 93, 38, 53, 60, 4, 23]\n"
     ]
    }
   ],
   "source": [
    "pontos = []\n",
    "for i, linha in enumerate(arvore):\n",
    "    print(linha)\n",
    "    for j, numero in enumerate(linha):\n",
    "        pontos.append(ponto(arvore=arvore, i = i, j= j))\n",
    "        "
   ]
  },
  {
   "cell_type": "code",
   "execution_count": 31,
   "metadata": {},
   "outputs": [],
   "source": [
    "soma = pontos[0].valor\n",
    "for i in range(len(arvore)):\n",
    "    soma += max(pontos[i+1].esquerda, pontos[i+1].direita)\n",
    "    "
   ]
  },
  {
   "cell_type": "code",
   "execution_count": 32,
   "metadata": {},
   "outputs": [
    {
     "data": {
      "text/plain": [
       "976"
      ]
     },
     "execution_count": 32,
     "metadata": {},
     "output_type": "execute_result"
    }
   ],
   "source": [
    "soma"
   ]
  }
 ],
 "metadata": {
  "kernelspec": {
   "display_name": "Python 3",
   "language": "python",
   "name": "python3"
  },
  "language_info": {
   "codemirror_mode": {
    "name": "ipython",
    "version": 3
   },
   "file_extension": ".py",
   "mimetype": "text/x-python",
   "name": "python",
   "nbconvert_exporter": "python",
   "pygments_lexer": "ipython3",
   "version": "3.10.5"
  },
  "orig_nbformat": 4,
  "vscode": {
   "interpreter": {
    "hash": "efa2bc66e88a51196068b5b3b6b1d5eff6c0894d7c25ed73f8b1e0e4ecc65593"
   }
  }
 },
 "nbformat": 4,
 "nbformat_minor": 2
}
