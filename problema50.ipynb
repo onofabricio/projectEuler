{
 "cells": [
  {
   "attachments": {},
   "cell_type": "markdown",
   "metadata": {},
   "source": [
    "### Consecutive prime sum\n",
    "#### Problem 50\n",
    "\n",
    "The prime 41, can be written as the sum of six consecutive primes:\n",
    "\n",
    "41 = 2 + 3 + 5 + 7 + 11 + 13\n",
    "This is the longest sum of consecutive primes that adds to a prime below one-hundred.\n",
    "\n",
    "The longest sum of consecutive primes below one-thousand that adds to a prime, contains 21 terms, and is equal to 953.\n",
    "\n",
    "Which prime, below one-million, can be written as the sum of the most consecutive primes?"
   ]
  },
  {
   "cell_type": "code",
   "execution_count": 2,
   "metadata": {},
   "outputs": [
    {
     "data": {
      "text/plain": [
       "37550402023"
      ]
     },
     "execution_count": 2,
     "metadata": {},
     "output_type": "execute_result"
    }
   ],
   "source": [
    "def Soma_de_primos(n):\n",
    "    primos = [True] * (n + 1)\n",
    "    s = 2\n",
    "    while s * s <= n:\n",
    "        if primos[s] == True:\n",
    "            for i in range(s*2, n+1, s):\n",
    "                primos[i] = False\n",
    "        s = s + 1\n",
    "        \n",
    "    sum = 0\n",
    "    for i in range (2, n + 1):\n",
    "        if(primos[i]):\n",
    "            sum = sum + i\n",
    "    return sum\n",
    "\n",
    "Soma_de_primos(1000000)"
   ]
  },
  {
   "cell_type": "code",
   "execution_count": 22,
   "metadata": {},
   "outputs": [
    {
     "name": "stdout",
     "output_type": "stream",
     "text": [
      "37550402023\n",
      "[]\n",
      "True\n"
     ]
    }
   ],
   "source": [
    "def soma_de_primos(primos, n):\n",
    "    sum = 0\n",
    "    for i in range (2, n + 1):\n",
    "        if(primos[i]):\n",
    "            sum = sum + i\n",
    "    return sum\n",
    "\n",
    "def verifica_primo(n):\n",
    "    divisores=[]\n",
    "    for i in range(1, n):\n",
    "        if n%i == 0:\n",
    "            print(divisores)\n",
    "            divisores.append(n)\n",
    "            \n",
    "            if len(divisores)>1:\n",
    "                return False\n",
    "    else:\n",
    "        return True\n",
    "    \n",
    "\n",
    "n=1000000\n",
    "primos = [True] * (n + 1)\n",
    "s = 2\n",
    "while s * s <= n:\n",
    "    if primos[s] == True:\n",
    "        for i in range(s*2, n+1, s):\n",
    "            primos[i] = False\n",
    "    s = s + 1\n",
    "print(soma_de_primos(primos, n))\n",
    "\n",
    "    \n",
    "print(verifica_primo(soma_de_primos(primos, n)))\n",
    "\n"
   ]
  }
 ],
 "metadata": {
  "kernelspec": {
   "display_name": "Python 3",
   "language": "python",
   "name": "python3"
  },
  "language_info": {
   "codemirror_mode": {
    "name": "ipython",
    "version": 3
   },
   "file_extension": ".py",
   "mimetype": "text/x-python",
   "name": "python",
   "nbconvert_exporter": "python",
   "pygments_lexer": "ipython3",
   "version": "3.10.5"
  },
  "orig_nbformat": 4
 },
 "nbformat": 4,
 "nbformat_minor": 2
}
