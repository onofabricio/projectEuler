{
 "cells": [
  {
   "attachments": {},
   "cell_type": "markdown",
   "metadata": {},
   "source": [
    "### Pandigital products\n",
    "#### Problema 32\n",
    "\n",
    "We shall say that an n-digit number is pandigital if it makes use of all the digits 1 to n exactly once; for example, the 5-digit number, 15234, is 1 through 5 pandigital.\n",
    "\n",
    "The product 7254 is unusual, as the identity, 39 × 186 = 7254, containing multiplicand, multiplier, and product is 1 through 9 pandigital.\n",
    "\n",
    "Find the sum of all products whose multiplicand/multiplier/product identity can be written as a 1 through 9 pandigital.\n",
    "\n",
    "HINT: Some products can be obtained in more than one way so be sure to only include it once in your sum."
   ]
  },
  {
   "cell_type": "code",
   "execution_count": 5,
   "metadata": {},
   "outputs": [
    {
     "name": "stdout",
     "output_type": "stream",
     "text": [
      "0\n"
     ]
    }
   ],
   "source": [
    "import itertools\n",
    "\n",
    "def pandigital_numbers(n):\n",
    "    \n",
    "    lista = [str(i) for i in range(1,10)]\n",
    "    pans = []\n",
    "    for j in itertools.permutations(lista, n):\n",
    "        pan = int(''.join(j))\n",
    "        pans.append(pan) \n",
    "        \n",
    "    return pans \n",
    "\n",
    "def verifica_produtos(pan):\n",
    "    universo = set([str(i) for i in range(1,10)])\n",
    "    numeros_restantes = universo - set(list(str(pan)))\n",
    "    \n",
    "    for i in itertools.permutations(numeros_restantes):\n",
    "        for j in range(1, int(len(i)/2)):\n",
    "            for k in itertools.permutations(i, j):\n",
    "                multiplicando = int(''.join(k))\n",
    "                multiplicador = int(''.join(set(i) - set(k)))\n",
    "                if multiplicador*multiplicando == pan:\n",
    "                    print(multiplicador, \"*\", multiplicando, \"=\", multiplicador*multiplicando, \"==\", pan,  multiplicador*multiplicando == pan)\n",
    "                    return True\n",
    "    else:\n",
    "        return False\n",
    "\n",
    "soma = 0\n",
    "for i in range(4 , 9):\n",
    "   pans = pandigital_numbers(i)\n",
    "   for pan in pans:\n",
    "       if verifica_produtos(pan):\n",
    "           print(\"entrou\", pan)\n",
    "           soma += pan\n",
    "           \n",
    "print(soma)   "
   ]
  }
 ],
 "metadata": {
  "kernelspec": {
   "display_name": "Python 3",
   "language": "python",
   "name": "python3"
  },
  "language_info": {
   "codemirror_mode": {
    "name": "ipython",
    "version": 3
   },
   "file_extension": ".py",
   "mimetype": "text/x-python",
   "name": "python",
   "nbconvert_exporter": "python",
   "pygments_lexer": "ipython3",
   "version": "3.10.5"
  },
  "orig_nbformat": 4
 },
 "nbformat": 4,
 "nbformat_minor": 2
}
